{
 "cells": [
  {
   "cell_type": "code",
   "execution_count": 1,
   "metadata": {},
   "outputs": [],
   "source": [
    "#import dependencies\n",
    "import pandas as pd\n",
    "from matplotlib import style\n",
    "style.use('fivethirtyeight')\n",
    "import matplotlib.pyplot as plt\n",
    "import datetime as dt\n",
    "import sqlite3\n",
    "import numpy as np"
   ]
  },
  {
   "cell_type": "code",
   "execution_count": 2,
   "metadata": {},
   "outputs": [],
   "source": [
    "import sqlalchemy\n",
    "from sqlalchemy.orm import Session\n",
    "from sqlalchemy import create_engine, func"
   ]
  },
  {
   "cell_type": "code",
   "execution_count": 3,
   "metadata": {},
   "outputs": [],
   "source": [
    "database_path = \"stock_data_db.db\""
   ]
  },
  {
   "cell_type": "code",
   "execution_count": 4,
   "metadata": {},
   "outputs": [],
   "source": [
    "URI = f\"sqlite:///{database_path}\""
   ]
  },
  {
   "cell_type": "code",
   "execution_count": 5,
   "metadata": {},
   "outputs": [],
   "source": [
    "engine = create_engine(URI)\n",
    "conn = engine.connect()"
   ]
  },
  {
   "cell_type": "code",
   "execution_count": 6,
   "metadata": {},
   "outputs": [],
   "source": [
    "symbol_company_table=pd.read_sql(\"SELECT * FROM symbol_company\", conn)\n"
   ]
  },
  {
   "cell_type": "code",
   "execution_count": 7,
   "metadata": {},
   "outputs": [
    {
     "name": "stdout",
     "output_type": "stream",
     "text": [
      "                           field1  Symbol  CompanyName  MarketCap\n",
      "Industry                                                         \n",
      "Advertising Agencies           31      31           31         31\n",
      "Aerospace & Defense            54      54           54         54\n",
      "Agricultural Inputs            18      18           18         18\n",
      "Airlines                       20      20           20         20\n",
      "Airports & Air Services        11      11           11         11\n",
      "...                           ...     ...          ...        ...\n",
      "Utilities-Regulated Gas        13      13           13         13\n",
      "Utilities-Regulated Water      14      14           14         14\n",
      "Utilities-Renewable            14      14           14         14\n",
      "Waste Management               20      20           20         20\n",
      "n/a                             8       8            8          8\n",
      "\n",
      "[152 rows x 4 columns]\n"
     ]
    }
   ],
   "source": [
    "print(symbol_company_table.groupby('Industry').count())"
   ]
  },
  {
   "cell_type": "code",
   "execution_count": 8,
   "metadata": {},
   "outputs": [
    {
     "data": {
      "text/html": [
       "<div>\n",
       "<style scoped>\n",
       "    .dataframe tbody tr th:only-of-type {\n",
       "        vertical-align: middle;\n",
       "    }\n",
       "\n",
       "    .dataframe tbody tr th {\n",
       "        vertical-align: top;\n",
       "    }\n",
       "\n",
       "    .dataframe thead th {\n",
       "        text-align: right;\n",
       "    }\n",
       "</style>\n",
       "<table border=\"1\" class=\"dataframe\">\n",
       "  <thead>\n",
       "    <tr style=\"text-align: right;\">\n",
       "      <th></th>\n",
       "      <th>Date</th>\n",
       "      <th>Open</th>\n",
       "      <th>High</th>\n",
       "      <th>Low</th>\n",
       "      <th>Close</th>\n",
       "      <th>AdjClose</th>\n",
       "      <th>Volume</th>\n",
       "      <th>Name</th>\n",
       "      <th>CompanyName</th>\n",
       "    </tr>\n",
       "  </thead>\n",
       "  <tbody>\n",
       "    <tr>\n",
       "      <th>0</th>\n",
       "      <td>1999-12-31</td>\n",
       "      <td>56.866955</td>\n",
       "      <td>57.179901</td>\n",
       "      <td>54.542202</td>\n",
       "      <td>55.302216</td>\n",
       "      <td>47.680683</td>\n",
       "      <td>1931197.0</td>\n",
       "      <td>A</td>\n",
       "      <td>Agilent Technologies</td>\n",
       "    </tr>\n",
       "    <tr>\n",
       "      <th>1</th>\n",
       "      <td>2000-01-03</td>\n",
       "      <td>56.330471</td>\n",
       "      <td>56.464592</td>\n",
       "      <td>48.193848</td>\n",
       "      <td>51.502148</td>\n",
       "      <td>44.404324</td>\n",
       "      <td>4674353.0</td>\n",
       "      <td>A</td>\n",
       "      <td>Agilent Technologies</td>\n",
       "    </tr>\n",
       "    <tr>\n",
       "      <th>2</th>\n",
       "      <td>2000-01-04</td>\n",
       "      <td>48.730328</td>\n",
       "      <td>49.266811</td>\n",
       "      <td>46.316166</td>\n",
       "      <td>47.567955</td>\n",
       "      <td>41.012325</td>\n",
       "      <td>4765083.0</td>\n",
       "      <td>A</td>\n",
       "      <td>Agilent Technologies</td>\n",
       "    </tr>\n",
       "    <tr>\n",
       "      <th>3</th>\n",
       "      <td>2000-01-05</td>\n",
       "      <td>47.389126</td>\n",
       "      <td>47.567955</td>\n",
       "      <td>43.141991</td>\n",
       "      <td>44.617310</td>\n",
       "      <td>38.468330</td>\n",
       "      <td>5758642.0</td>\n",
       "      <td>A</td>\n",
       "      <td>Agilent Technologies</td>\n",
       "    </tr>\n",
       "    <tr>\n",
       "      <th>4</th>\n",
       "      <td>2000-01-06</td>\n",
       "      <td>44.080830</td>\n",
       "      <td>44.349072</td>\n",
       "      <td>41.577251</td>\n",
       "      <td>42.918453</td>\n",
       "      <td>37.003593</td>\n",
       "      <td>2534434.0</td>\n",
       "      <td>A</td>\n",
       "      <td>Agilent Technologies</td>\n",
       "    </tr>\n",
       "    <tr>\n",
       "      <th>...</th>\n",
       "      <td>...</td>\n",
       "      <td>...</td>\n",
       "      <td>...</td>\n",
       "      <td>...</td>\n",
       "      <td>...</td>\n",
       "      <td>...</td>\n",
       "      <td>...</td>\n",
       "      <td>...</td>\n",
       "      <td>...</td>\n",
       "    </tr>\n",
       "    <tr>\n",
       "      <th>16241142</th>\n",
       "      <td>2021-08-13</td>\n",
       "      <td>14.210000</td>\n",
       "      <td>14.290000</td>\n",
       "      <td>13.860000</td>\n",
       "      <td>14.190000</td>\n",
       "      <td>14.190000</td>\n",
       "      <td>287300.0</td>\n",
       "      <td>ZYXI</td>\n",
       "      <td>Zynex</td>\n",
       "    </tr>\n",
       "    <tr>\n",
       "      <th>16241143</th>\n",
       "      <td>2021-08-16</td>\n",
       "      <td>14.150000</td>\n",
       "      <td>14.180000</td>\n",
       "      <td>13.560000</td>\n",
       "      <td>13.650000</td>\n",
       "      <td>13.650000</td>\n",
       "      <td>284100.0</td>\n",
       "      <td>ZYXI</td>\n",
       "      <td>Zynex</td>\n",
       "    </tr>\n",
       "    <tr>\n",
       "      <th>16241144</th>\n",
       "      <td>2021-08-17</td>\n",
       "      <td>13.550000</td>\n",
       "      <td>13.640000</td>\n",
       "      <td>12.950000</td>\n",
       "      <td>13.200000</td>\n",
       "      <td>13.200000</td>\n",
       "      <td>386200.0</td>\n",
       "      <td>ZYXI</td>\n",
       "      <td>Zynex</td>\n",
       "    </tr>\n",
       "    <tr>\n",
       "      <th>16241145</th>\n",
       "      <td>2021-08-18</td>\n",
       "      <td>13.270000</td>\n",
       "      <td>13.310000</td>\n",
       "      <td>12.680000</td>\n",
       "      <td>13.150000</td>\n",
       "      <td>13.150000</td>\n",
       "      <td>316900.0</td>\n",
       "      <td>ZYXI</td>\n",
       "      <td>Zynex</td>\n",
       "    </tr>\n",
       "    <tr>\n",
       "      <th>16241146</th>\n",
       "      <td>2021-08-19</td>\n",
       "      <td>13.050000</td>\n",
       "      <td>13.330000</td>\n",
       "      <td>12.940000</td>\n",
       "      <td>12.960000</td>\n",
       "      <td>12.960000</td>\n",
       "      <td>226100.0</td>\n",
       "      <td>ZYXI</td>\n",
       "      <td>Zynex</td>\n",
       "    </tr>\n",
       "  </tbody>\n",
       "</table>\n",
       "<p>16241147 rows × 9 columns</p>\n",
       "</div>"
      ],
      "text/plain": [
       "                Date       Open       High        Low      Close   AdjClose  \\\n",
       "0         1999-12-31  56.866955  57.179901  54.542202  55.302216  47.680683   \n",
       "1         2000-01-03  56.330471  56.464592  48.193848  51.502148  44.404324   \n",
       "2         2000-01-04  48.730328  49.266811  46.316166  47.567955  41.012325   \n",
       "3         2000-01-05  47.389126  47.567955  43.141991  44.617310  38.468330   \n",
       "4         2000-01-06  44.080830  44.349072  41.577251  42.918453  37.003593   \n",
       "...              ...        ...        ...        ...        ...        ...   \n",
       "16241142  2021-08-13  14.210000  14.290000  13.860000  14.190000  14.190000   \n",
       "16241143  2021-08-16  14.150000  14.180000  13.560000  13.650000  13.650000   \n",
       "16241144  2021-08-17  13.550000  13.640000  12.950000  13.200000  13.200000   \n",
       "16241145  2021-08-18  13.270000  13.310000  12.680000  13.150000  13.150000   \n",
       "16241146  2021-08-19  13.050000  13.330000  12.940000  12.960000  12.960000   \n",
       "\n",
       "             Volume  Name           CompanyName  \n",
       "0         1931197.0     A  Agilent Technologies  \n",
       "1         4674353.0     A  Agilent Technologies  \n",
       "2         4765083.0     A  Agilent Technologies  \n",
       "3         5758642.0     A  Agilent Technologies  \n",
       "4         2534434.0     A  Agilent Technologies  \n",
       "...             ...   ...                   ...  \n",
       "16241142   287300.0  ZYXI                 Zynex  \n",
       "16241143   284100.0  ZYXI                 Zynex  \n",
       "16241144   386200.0  ZYXI                 Zynex  \n",
       "16241145   316900.0  ZYXI                 Zynex  \n",
       "16241146   226100.0  ZYXI                 Zynex  \n",
       "\n",
       "[16241147 rows x 9 columns]"
      ]
     },
     "execution_count": 8,
     "metadata": {},
     "output_type": "execute_result"
    }
   ],
   "source": [
    "data_table = pd.read_sql(\"SELECT * FROM full_stock_df\", conn)\n",
    "data_table"
   ]
  },
  {
   "cell_type": "code",
   "execution_count": 9,
   "metadata": {},
   "outputs": [],
   "source": [
    "\n",
    "data_table.Date = pd.to_datetime(data_table.Date)\n"
   ]
  },
  {
   "cell_type": "code",
   "execution_count": 10,
   "metadata": {},
   "outputs": [],
   "source": [
    "#add new columns D, M, Y to make filtering and calculations easier\n",
    "data_table['day'] = data_table['Date'].dt.day\n",
    "data_table['month'] = data_table['Date'].dt.month\n",
    "data_table['year'] = data_table['Date'].dt.year"
   ]
  },
  {
   "cell_type": "code",
   "execution_count": 11,
   "metadata": {},
   "outputs": [
    {
     "data": {
      "text/plain": [
       "Index(['Date', 'Open', 'High', 'Low', 'Close', 'AdjClose', 'Volume', 'Name',\n",
       "       'CompanyName', 'day', 'month', 'year'],\n",
       "      dtype='object')"
      ]
     },
     "execution_count": 11,
     "metadata": {},
     "output_type": "execute_result"
    }
   ],
   "source": [
    "#data_table.columns"
   ]
  },
  {
   "cell_type": "code",
   "execution_count": 12,
   "metadata": {},
   "outputs": [],
   "source": [
    "#filter our dataframe to only data within the last 10 years to reduce runtime lag\n",
    "last_decade_df = data_table.loc[(data_table['year']>2010)]\n",
    "last_decade_df\n",
    "#save dataframe as a csv to run locally\n",
    "last_decade_df.to_csv('last_decade_stock_data.csv')"
   ]
  },
  {
   "cell_type": "code",
   "execution_count": null,
   "metadata": {},
   "outputs": [],
   "source": []
  },
  {
   "cell_type": "code",
   "execution_count": 15,
   "metadata": {},
   "outputs": [],
   "source": [
    "#group by each stock to begin calculations and EDA \n",
    "pd.read_csv('last_decade_stock_data.csv')\n",
    "last_decade_grouped = last_decade_df.groupby(['Name', 'year', 'month']).agg({'Close':['mean', 'max']}).reset_index()\n",
    "last_decade_grouped.head(30)\n",
    "last_decade_grouped.to_csv('last_decade_grouped.csv')\n"
   ]
  },
  {
   "cell_type": "code",
   "execution_count": null,
   "metadata": {},
   "outputs": [],
   "source": []
  },
  {
   "cell_type": "code",
   "execution_count": null,
   "metadata": {},
   "outputs": [],
   "source": []
  }
 ],
 "metadata": {
  "kernelspec": {
   "display_name": "Python 3",
   "language": "python",
   "name": "python3"
  },
  "language_info": {
   "codemirror_mode": {
    "name": "ipython",
    "version": 3
   },
   "file_extension": ".py",
   "mimetype": "text/x-python",
   "name": "python",
   "nbconvert_exporter": "python",
   "pygments_lexer": "ipython3",
   "version": "3.8.3"
  }
 },
 "nbformat": 4,
 "nbformat_minor": 4
}
