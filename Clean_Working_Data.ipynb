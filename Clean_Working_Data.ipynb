{
  "nbformat": 4,
  "nbformat_minor": 0,
  "metadata": {
    "kernelspec": {
      "display_name": "Python 3",
      "language": "python",
      "name": "python3"
    },
    "language_info": {
      "codemirror_mode": {
        "name": "ipython",
        "version": 3
      },
      "file_extension": ".py",
      "mimetype": "text/x-python",
      "name": "python",
      "nbconvert_exporter": "python",
      "pygments_lexer": "ipython3",
      "version": "3.8.3"
    },
    "colab": {
      "name": "Clean_Working_Data.ipynb",
      "provenance": [],
      "collapsed_sections": [],
      "include_colab_link": true
    }
  },
  "cells": [
    {
      "cell_type": "markdown",
      "metadata": {
        "id": "view-in-github",
        "colab_type": "text"
      },
      "source": [
        "<a href=\"https://colab.research.google.com/github/melfraas/ML_Stock_Project/blob/main/Clean_Working_Data.ipynb\" target=\"_parent\"><img src=\"https://colab.research.google.com/assets/colab-badge.svg\" alt=\"Open In Colab\"/></a>"
      ]
    },
    {
      "cell_type": "code",
      "metadata": {
        "colab": {
          "base_uri": "https://localhost:8080/",
          "height": 511
        },
        "id": "lILP5ryCnIFd",
        "outputId": "ae2cbdc4-3653-4e0e-f9b2-b4d9cee6af4c"
      },
      "source": [
        "pip install pmdarima"
      ],
      "execution_count": 2,
      "outputs": [
        {
          "output_type": "stream",
          "name": "stdout",
          "text": [
            "Collecting pmdarima\n",
            "  Downloading pmdarima-1.8.2-cp37-cp37m-manylinux1_x86_64.whl (1.5 MB)\n",
            "\u001b[K     |████████████████████████████████| 1.5 MB 5.0 MB/s \n",
            "\u001b[?25hRequirement already satisfied: pandas>=0.19 in /usr/local/lib/python3.7/dist-packages (from pmdarima) (1.1.5)\n",
            "Requirement already satisfied: setuptools!=50.0.0,>=38.6.0 in /usr/local/lib/python3.7/dist-packages (from pmdarima) (57.4.0)\n",
            "Requirement already satisfied: numpy~=1.19.0 in /usr/local/lib/python3.7/dist-packages (from pmdarima) (1.19.5)\n",
            "Collecting statsmodels!=0.12.0,>=0.11\n",
            "  Downloading statsmodels-0.12.2-cp37-cp37m-manylinux1_x86_64.whl (9.5 MB)\n",
            "\u001b[K     |████████████████████████████████| 9.5 MB 71.7 MB/s \n",
            "\u001b[?25hRequirement already satisfied: urllib3 in /usr/local/lib/python3.7/dist-packages (from pmdarima) (1.24.3)\n",
            "Requirement already satisfied: scipy>=1.3.2 in /usr/local/lib/python3.7/dist-packages (from pmdarima) (1.4.1)\n",
            "Requirement already satisfied: joblib>=0.11 in /usr/local/lib/python3.7/dist-packages (from pmdarima) (1.0.1)\n",
            "Requirement already satisfied: Cython!=0.29.18,>=0.29 in /usr/local/lib/python3.7/dist-packages (from pmdarima) (0.29.24)\n",
            "Requirement already satisfied: scikit-learn>=0.22 in /usr/local/lib/python3.7/dist-packages (from pmdarima) (0.22.2.post1)\n",
            "Requirement already satisfied: pytz>=2017.2 in /usr/local/lib/python3.7/dist-packages (from pandas>=0.19->pmdarima) (2018.9)\n",
            "Requirement already satisfied: python-dateutil>=2.7.3 in /usr/local/lib/python3.7/dist-packages (from pandas>=0.19->pmdarima) (2.8.2)\n",
            "Requirement already satisfied: six>=1.5 in /usr/local/lib/python3.7/dist-packages (from python-dateutil>=2.7.3->pandas>=0.19->pmdarima) (1.15.0)\n",
            "Requirement already satisfied: patsy>=0.5 in /usr/local/lib/python3.7/dist-packages (from statsmodels!=0.12.0,>=0.11->pmdarima) (0.5.1)\n",
            "Installing collected packages: statsmodels, pmdarima\n",
            "  Attempting uninstall: statsmodels\n",
            "    Found existing installation: statsmodels 0.10.2\n",
            "    Uninstalling statsmodels-0.10.2:\n",
            "      Successfully uninstalled statsmodels-0.10.2\n",
            "Successfully installed pmdarima-1.8.2 statsmodels-0.12.2\n"
          ]
        },
        {
          "output_type": "display_data",
          "data": {
            "application/vnd.colab-display-data+json": {
              "pip_warning": {
                "packages": [
                  "statsmodels"
                ]
              }
            }
          },
          "metadata": {}
        }
      ]
    },
    {
      "cell_type": "code",
      "metadata": {
        "id": "LO8KuLXEE6nH"
      },
      "source": [
        "#import dependencies\n",
        "import pandas as pd\n",
        "from matplotlib import style\n",
        "style.use('fivethirtyeight')\n",
        "import matplotlib.pyplot as plt\n",
        "import datetime as dt\n",
        "import numpy as np\n",
        "import sklearn as skl\n",
        "from sklearn.model_selection import train_test_split\n",
        "import tensorflow as tf\n",
        "import os\n",
        "import warnings\n",
        "warnings.filterwarnings('ignore')\n",
        "\n",
        "from pylab import rcParams\n",
        "rcParams['figure.figsize'] = 10, 6\n",
        "from statsmodels.tsa.stattools import adfuller\n",
        "from statsmodels.tsa.seasonal import seasonal_decompose\n",
        "from statsmodels.tsa.arima_model import ARIMA\n",
        "# Load the statsmodels api\n",
        "import statsmodels.api as sm\n",
        "\n",
        "from pmdarima.arima import auto_arima\n",
        "from sklearn.metrics import mean_squared_error, mean_absolute_error\n",
        "import math"
      ],
      "execution_count": 1,
      "outputs": []
    },
    {
      "cell_type": "code",
      "metadata": {
        "scrolled": true,
        "id": "OH1jHGsvE6nK"
      },
      "source": [
        "#read in new csv's\n",
        "url = 'https://raw.githubusercontent.com/melfraas/ML_Stock_Project/main/min_mean_max.csv'\n",
        "df1 = pd.read_csv(url)\n"
      ],
      "execution_count": 2,
      "outputs": []
    },
    {
      "cell_type": "code",
      "metadata": {
        "colab": {
          "base_uri": "https://localhost:8080/",
          "height": 419
        },
        "id": "oBrGAHUwE6nL",
        "outputId": "8179d7e8-0c6a-4f17-8bec-7ad0da926f69"
      },
      "source": [
        "df1.round(decimals=3)"
      ],
      "execution_count": 3,
      "outputs": [
        {
          "output_type": "execute_result",
          "data": {
            "text/html": [
              "<div>\n",
              "<style scoped>\n",
              "    .dataframe tbody tr th:only-of-type {\n",
              "        vertical-align: middle;\n",
              "    }\n",
              "\n",
              "    .dataframe tbody tr th {\n",
              "        vertical-align: top;\n",
              "    }\n",
              "\n",
              "    .dataframe thead th {\n",
              "        text-align: right;\n",
              "    }\n",
              "</style>\n",
              "<table border=\"1\" class=\"dataframe\">\n",
              "  <thead>\n",
              "    <tr style=\"text-align: right;\">\n",
              "      <th></th>\n",
              "      <th>Unnamed: 0</th>\n",
              "      <th>Name</th>\n",
              "      <th>CompanyName</th>\n",
              "      <th>year</th>\n",
              "      <th>month</th>\n",
              "      <th>MeanClose</th>\n",
              "      <th>MinClose</th>\n",
              "      <th>MaxClose</th>\n",
              "    </tr>\n",
              "  </thead>\n",
              "  <tbody>\n",
              "    <tr>\n",
              "      <th>0</th>\n",
              "      <td>0</td>\n",
              "      <td>A</td>\n",
              "      <td>Agilent Technologies</td>\n",
              "      <td>2011</td>\n",
              "      <td>1</td>\n",
              "      <td>30.288</td>\n",
              "      <td>29.313</td>\n",
              "      <td>31.724</td>\n",
              "    </tr>\n",
              "    <tr>\n",
              "      <th>1</th>\n",
              "      <td>1</td>\n",
              "      <td>A</td>\n",
              "      <td>Agilent Technologies</td>\n",
              "      <td>2011</td>\n",
              "      <td>2</td>\n",
              "      <td>30.709</td>\n",
              "      <td>28.934</td>\n",
              "      <td>32.203</td>\n",
              "    </tr>\n",
              "    <tr>\n",
              "      <th>2</th>\n",
              "      <td>2</td>\n",
              "      <td>A</td>\n",
              "      <td>Agilent Technologies</td>\n",
              "      <td>2011</td>\n",
              "      <td>3</td>\n",
              "      <td>31.516</td>\n",
              "      <td>29.099</td>\n",
              "      <td>33.441</td>\n",
              "    </tr>\n",
              "    <tr>\n",
              "      <th>3</th>\n",
              "      <td>3</td>\n",
              "      <td>A</td>\n",
              "      <td>Agilent Technologies</td>\n",
              "      <td>2011</td>\n",
              "      <td>4</td>\n",
              "      <td>33.625</td>\n",
              "      <td>32.067</td>\n",
              "      <td>35.994</td>\n",
              "    </tr>\n",
              "    <tr>\n",
              "      <th>4</th>\n",
              "      <td>4</td>\n",
              "      <td>A</td>\n",
              "      <td>Agilent Technologies</td>\n",
              "      <td>2011</td>\n",
              "      <td>5</td>\n",
              "      <td>35.959</td>\n",
              "      <td>34.828</td>\n",
              "      <td>37.611</td>\n",
              "    </tr>\n",
              "    <tr>\n",
              "      <th>...</th>\n",
              "      <td>...</td>\n",
              "      <td>...</td>\n",
              "      <td>...</td>\n",
              "      <td>...</td>\n",
              "      <td>...</td>\n",
              "      <td>...</td>\n",
              "      <td>...</td>\n",
              "      <td>...</td>\n",
              "    </tr>\n",
              "    <tr>\n",
              "      <th>491182</th>\n",
              "      <td>491182</td>\n",
              "      <td>ZYXI</td>\n",
              "      <td>Zynex</td>\n",
              "      <td>2021</td>\n",
              "      <td>4</td>\n",
              "      <td>15.517</td>\n",
              "      <td>14.770</td>\n",
              "      <td>16.360</td>\n",
              "    </tr>\n",
              "    <tr>\n",
              "      <th>491183</th>\n",
              "      <td>491183</td>\n",
              "      <td>ZYXI</td>\n",
              "      <td>Zynex</td>\n",
              "      <td>2021</td>\n",
              "      <td>5</td>\n",
              "      <td>14.342</td>\n",
              "      <td>13.480</td>\n",
              "      <td>15.220</td>\n",
              "    </tr>\n",
              "    <tr>\n",
              "      <th>491184</th>\n",
              "      <td>491184</td>\n",
              "      <td>ZYXI</td>\n",
              "      <td>Zynex</td>\n",
              "      <td>2021</td>\n",
              "      <td>6</td>\n",
              "      <td>15.710</td>\n",
              "      <td>15.010</td>\n",
              "      <td>16.100</td>\n",
              "    </tr>\n",
              "    <tr>\n",
              "      <th>491185</th>\n",
              "      <td>491185</td>\n",
              "      <td>ZYXI</td>\n",
              "      <td>Zynex</td>\n",
              "      <td>2021</td>\n",
              "      <td>7</td>\n",
              "      <td>15.960</td>\n",
              "      <td>13.890</td>\n",
              "      <td>17.220</td>\n",
              "    </tr>\n",
              "    <tr>\n",
              "      <th>491186</th>\n",
              "      <td>491186</td>\n",
              "      <td>ZYXI</td>\n",
              "      <td>Zynex</td>\n",
              "      <td>2021</td>\n",
              "      <td>8</td>\n",
              "      <td>14.246</td>\n",
              "      <td>12.960</td>\n",
              "      <td>14.920</td>\n",
              "    </tr>\n",
              "  </tbody>\n",
              "</table>\n",
              "<p>491187 rows × 8 columns</p>\n",
              "</div>"
            ],
            "text/plain": [
              "        Unnamed: 0  Name           CompanyName  ...  MeanClose  MinClose  MaxClose\n",
              "0                0     A  Agilent Technologies  ...     30.288    29.313    31.724\n",
              "1                1     A  Agilent Technologies  ...     30.709    28.934    32.203\n",
              "2                2     A  Agilent Technologies  ...     31.516    29.099    33.441\n",
              "3                3     A  Agilent Technologies  ...     33.625    32.067    35.994\n",
              "4                4     A  Agilent Technologies  ...     35.959    34.828    37.611\n",
              "...            ...   ...                   ...  ...        ...       ...       ...\n",
              "491182      491182  ZYXI                 Zynex  ...     15.517    14.770    16.360\n",
              "491183      491183  ZYXI                 Zynex  ...     14.342    13.480    15.220\n",
              "491184      491184  ZYXI                 Zynex  ...     15.710    15.010    16.100\n",
              "491185      491185  ZYXI                 Zynex  ...     15.960    13.890    17.220\n",
              "491186      491186  ZYXI                 Zynex  ...     14.246    12.960    14.920\n",
              "\n",
              "[491187 rows x 8 columns]"
            ]
          },
          "metadata": {},
          "execution_count": 3
        }
      ]
    },
    {
      "cell_type": "code",
      "metadata": {
        "colab": {
          "base_uri": "https://localhost:8080/",
          "height": 419
        },
        "id": "8-QuaGX0wy-a",
        "outputId": "ac315a06-746b-4aa4-f0ee-163e4df4d749"
      },
      "source": [
        "df1['ym']= pd.to_datetime(df1.year.astype(str) + '/' + df1.month.astype(str))\n",
        "df1"
      ],
      "execution_count": 4,
      "outputs": [
        {
          "output_type": "execute_result",
          "data": {
            "text/html": [
              "<div>\n",
              "<style scoped>\n",
              "    .dataframe tbody tr th:only-of-type {\n",
              "        vertical-align: middle;\n",
              "    }\n",
              "\n",
              "    .dataframe tbody tr th {\n",
              "        vertical-align: top;\n",
              "    }\n",
              "\n",
              "    .dataframe thead th {\n",
              "        text-align: right;\n",
              "    }\n",
              "</style>\n",
              "<table border=\"1\" class=\"dataframe\">\n",
              "  <thead>\n",
              "    <tr style=\"text-align: right;\">\n",
              "      <th></th>\n",
              "      <th>Unnamed: 0</th>\n",
              "      <th>Name</th>\n",
              "      <th>CompanyName</th>\n",
              "      <th>year</th>\n",
              "      <th>month</th>\n",
              "      <th>MeanClose</th>\n",
              "      <th>MinClose</th>\n",
              "      <th>MaxClose</th>\n",
              "      <th>ym</th>\n",
              "    </tr>\n",
              "  </thead>\n",
              "  <tbody>\n",
              "    <tr>\n",
              "      <th>0</th>\n",
              "      <td>0</td>\n",
              "      <td>A</td>\n",
              "      <td>Agilent Technologies</td>\n",
              "      <td>2011</td>\n",
              "      <td>1</td>\n",
              "      <td>30.288269</td>\n",
              "      <td>29.313305</td>\n",
              "      <td>31.723890</td>\n",
              "      <td>2011-01-01</td>\n",
              "    </tr>\n",
              "    <tr>\n",
              "      <th>1</th>\n",
              "      <td>1</td>\n",
              "      <td>A</td>\n",
              "      <td>Agilent Technologies</td>\n",
              "      <td>2011</td>\n",
              "      <td>2</td>\n",
              "      <td>30.709284</td>\n",
              "      <td>28.934193</td>\n",
              "      <td>32.203148</td>\n",
              "      <td>2011-02-01</td>\n",
              "    </tr>\n",
              "    <tr>\n",
              "      <th>2</th>\n",
              "      <td>2</td>\n",
              "      <td>A</td>\n",
              "      <td>Agilent Technologies</td>\n",
              "      <td>2011</td>\n",
              "      <td>3</td>\n",
              "      <td>31.515519</td>\n",
              "      <td>29.098713</td>\n",
              "      <td>33.440628</td>\n",
              "      <td>2011-03-01</td>\n",
              "    </tr>\n",
              "    <tr>\n",
              "      <th>3</th>\n",
              "      <td>3</td>\n",
              "      <td>A</td>\n",
              "      <td>Agilent Technologies</td>\n",
              "      <td>2011</td>\n",
              "      <td>4</td>\n",
              "      <td>33.624821</td>\n",
              "      <td>32.067238</td>\n",
              "      <td>35.994278</td>\n",
              "      <td>2011-04-01</td>\n",
              "    </tr>\n",
              "    <tr>\n",
              "      <th>4</th>\n",
              "      <td>4</td>\n",
              "      <td>A</td>\n",
              "      <td>Agilent Technologies</td>\n",
              "      <td>2011</td>\n",
              "      <td>5</td>\n",
              "      <td>35.958853</td>\n",
              "      <td>34.828327</td>\n",
              "      <td>37.610874</td>\n",
              "      <td>2011-05-01</td>\n",
              "    </tr>\n",
              "    <tr>\n",
              "      <th>...</th>\n",
              "      <td>...</td>\n",
              "      <td>...</td>\n",
              "      <td>...</td>\n",
              "      <td>...</td>\n",
              "      <td>...</td>\n",
              "      <td>...</td>\n",
              "      <td>...</td>\n",
              "      <td>...</td>\n",
              "      <td>...</td>\n",
              "    </tr>\n",
              "    <tr>\n",
              "      <th>491182</th>\n",
              "      <td>491182</td>\n",
              "      <td>ZYXI</td>\n",
              "      <td>Zynex</td>\n",
              "      <td>2021</td>\n",
              "      <td>4</td>\n",
              "      <td>15.517143</td>\n",
              "      <td>14.770000</td>\n",
              "      <td>16.360001</td>\n",
              "      <td>2021-04-01</td>\n",
              "    </tr>\n",
              "    <tr>\n",
              "      <th>491183</th>\n",
              "      <td>491183</td>\n",
              "      <td>ZYXI</td>\n",
              "      <td>Zynex</td>\n",
              "      <td>2021</td>\n",
              "      <td>5</td>\n",
              "      <td>14.342000</td>\n",
              "      <td>13.480000</td>\n",
              "      <td>15.220000</td>\n",
              "      <td>2021-05-01</td>\n",
              "    </tr>\n",
              "    <tr>\n",
              "      <th>491184</th>\n",
              "      <td>491184</td>\n",
              "      <td>ZYXI</td>\n",
              "      <td>Zynex</td>\n",
              "      <td>2021</td>\n",
              "      <td>6</td>\n",
              "      <td>15.710454</td>\n",
              "      <td>15.010000</td>\n",
              "      <td>16.100000</td>\n",
              "      <td>2021-06-01</td>\n",
              "    </tr>\n",
              "    <tr>\n",
              "      <th>491185</th>\n",
              "      <td>491185</td>\n",
              "      <td>ZYXI</td>\n",
              "      <td>Zynex</td>\n",
              "      <td>2021</td>\n",
              "      <td>7</td>\n",
              "      <td>15.959524</td>\n",
              "      <td>13.890000</td>\n",
              "      <td>17.219999</td>\n",
              "      <td>2021-07-01</td>\n",
              "    </tr>\n",
              "    <tr>\n",
              "      <th>491186</th>\n",
              "      <td>491186</td>\n",
              "      <td>ZYXI</td>\n",
              "      <td>Zynex</td>\n",
              "      <td>2021</td>\n",
              "      <td>8</td>\n",
              "      <td>14.246428</td>\n",
              "      <td>12.960000</td>\n",
              "      <td>14.920000</td>\n",
              "      <td>2021-08-01</td>\n",
              "    </tr>\n",
              "  </tbody>\n",
              "</table>\n",
              "<p>491187 rows × 9 columns</p>\n",
              "</div>"
            ],
            "text/plain": [
              "        Unnamed: 0  Name           CompanyName  ...   MinClose   MaxClose         ym\n",
              "0                0     A  Agilent Technologies  ...  29.313305  31.723890 2011-01-01\n",
              "1                1     A  Agilent Technologies  ...  28.934193  32.203148 2011-02-01\n",
              "2                2     A  Agilent Technologies  ...  29.098713  33.440628 2011-03-01\n",
              "3                3     A  Agilent Technologies  ...  32.067238  35.994278 2011-04-01\n",
              "4                4     A  Agilent Technologies  ...  34.828327  37.610874 2011-05-01\n",
              "...            ...   ...                   ...  ...        ...        ...        ...\n",
              "491182      491182  ZYXI                 Zynex  ...  14.770000  16.360001 2021-04-01\n",
              "491183      491183  ZYXI                 Zynex  ...  13.480000  15.220000 2021-05-01\n",
              "491184      491184  ZYXI                 Zynex  ...  15.010000  16.100000 2021-06-01\n",
              "491185      491185  ZYXI                 Zynex  ...  13.890000  17.219999 2021-07-01\n",
              "491186      491186  ZYXI                 Zynex  ...  12.960000  14.920000 2021-08-01\n",
              "\n",
              "[491187 rows x 9 columns]"
            ]
          },
          "metadata": {},
          "execution_count": 4
        }
      ]
    },
    {
      "cell_type": "code",
      "metadata": {
        "colab": {
          "base_uri": "https://localhost:8080/",
          "height": 359
        },
        "id": "sSrfwuaxHUCW",
        "outputId": "235303f9-6217-4fc1-d939-3d3a683d4907"
      },
      "source": [
        "highest_close = df1.nlargest(10, 'MeanClose')\n",
        "highest_close"
      ],
      "execution_count": 5,
      "outputs": [
        {
          "output_type": "execute_result",
          "data": {
            "text/html": [
              "<div>\n",
              "<style scoped>\n",
              "    .dataframe tbody tr th:only-of-type {\n",
              "        vertical-align: middle;\n",
              "    }\n",
              "\n",
              "    .dataframe tbody tr th {\n",
              "        vertical-align: top;\n",
              "    }\n",
              "\n",
              "    .dataframe thead th {\n",
              "        text-align: right;\n",
              "    }\n",
              "</style>\n",
              "<table border=\"1\" class=\"dataframe\">\n",
              "  <thead>\n",
              "    <tr style=\"text-align: right;\">\n",
              "      <th></th>\n",
              "      <th>Unnamed: 0</th>\n",
              "      <th>Name</th>\n",
              "      <th>CompanyName</th>\n",
              "      <th>year</th>\n",
              "      <th>month</th>\n",
              "      <th>MeanClose</th>\n",
              "      <th>MinClose</th>\n",
              "      <th>MaxClose</th>\n",
              "      <th>ym</th>\n",
              "    </tr>\n",
              "  </thead>\n",
              "  <tbody>\n",
              "    <tr>\n",
              "      <th>435638</th>\n",
              "      <td>435638</td>\n",
              "      <td>TOPS</td>\n",
              "      <td>Top Ships</td>\n",
              "      <td>2011</td>\n",
              "      <td>1</td>\n",
              "      <td>6.569500e+10</td>\n",
              "      <td>6.111000e+10</td>\n",
              "      <td>6.804000e+10</td>\n",
              "      <td>2011-01-01</td>\n",
              "    </tr>\n",
              "    <tr>\n",
              "      <th>435639</th>\n",
              "      <td>435639</td>\n",
              "      <td>TOPS</td>\n",
              "      <td>Top Ships</td>\n",
              "      <td>2011</td>\n",
              "      <td>2</td>\n",
              "      <td>6.203842e+10</td>\n",
              "      <td>5.796000e+10</td>\n",
              "      <td>6.741000e+10</td>\n",
              "      <td>2011-02-01</td>\n",
              "    </tr>\n",
              "    <tr>\n",
              "      <th>435640</th>\n",
              "      <td>435640</td>\n",
              "      <td>TOPS</td>\n",
              "      <td>Top Ships</td>\n",
              "      <td>2011</td>\n",
              "      <td>3</td>\n",
              "      <td>5.212565e+10</td>\n",
              "      <td>4.536000e+10</td>\n",
              "      <td>5.796000e+10</td>\n",
              "      <td>2011-03-01</td>\n",
              "    </tr>\n",
              "    <tr>\n",
              "      <th>435641</th>\n",
              "      <td>435641</td>\n",
              "      <td>TOPS</td>\n",
              "      <td>Top Ships</td>\n",
              "      <td>2011</td>\n",
              "      <td>4</td>\n",
              "      <td>4.438350e+10</td>\n",
              "      <td>3.969000e+10</td>\n",
              "      <td>4.725000e+10</td>\n",
              "      <td>2011-04-01</td>\n",
              "    </tr>\n",
              "    <tr>\n",
              "      <th>435642</th>\n",
              "      <td>435642</td>\n",
              "      <td>TOPS</td>\n",
              "      <td>Top Ships</td>\n",
              "      <td>2011</td>\n",
              "      <td>5</td>\n",
              "      <td>4.161500e+10</td>\n",
              "      <td>3.780000e+10</td>\n",
              "      <td>4.662000e+10</td>\n",
              "      <td>2011-05-01</td>\n",
              "    </tr>\n",
              "    <tr>\n",
              "      <th>435643</th>\n",
              "      <td>435643</td>\n",
              "      <td>TOPS</td>\n",
              "      <td>Top Ships</td>\n",
              "      <td>2011</td>\n",
              "      <td>6</td>\n",
              "      <td>2.790000e+10</td>\n",
              "      <td>1.984500e+10</td>\n",
              "      <td>3.906000e+10</td>\n",
              "      <td>2011-06-01</td>\n",
              "    </tr>\n",
              "    <tr>\n",
              "      <th>435644</th>\n",
              "      <td>435644</td>\n",
              "      <td>TOPS</td>\n",
              "      <td>Top Ships</td>\n",
              "      <td>2011</td>\n",
              "      <td>7</td>\n",
              "      <td>1.998045e+10</td>\n",
              "      <td>1.568700e+10</td>\n",
              "      <td>2.520000e+10</td>\n",
              "      <td>2011-07-01</td>\n",
              "    </tr>\n",
              "    <tr>\n",
              "      <th>435648</th>\n",
              "      <td>435648</td>\n",
              "      <td>TOPS</td>\n",
              "      <td>Top Ships</td>\n",
              "      <td>2011</td>\n",
              "      <td>11</td>\n",
              "      <td>1.532100e+10</td>\n",
              "      <td>1.430100e+10</td>\n",
              "      <td>1.669500e+10</td>\n",
              "      <td>2011-11-01</td>\n",
              "    </tr>\n",
              "    <tr>\n",
              "      <th>435652</th>\n",
              "      <td>435652</td>\n",
              "      <td>TOPS</td>\n",
              "      <td>Top Ships</td>\n",
              "      <td>2012</td>\n",
              "      <td>3</td>\n",
              "      <td>1.437259e+10</td>\n",
              "      <td>1.329300e+10</td>\n",
              "      <td>1.612800e+10</td>\n",
              "      <td>2012-03-01</td>\n",
              "    </tr>\n",
              "    <tr>\n",
              "      <th>435651</th>\n",
              "      <td>435651</td>\n",
              "      <td>TOPS</td>\n",
              "      <td>Top Ships</td>\n",
              "      <td>2012</td>\n",
              "      <td>2</td>\n",
              "      <td>1.432620e+10</td>\n",
              "      <td>8.568000e+09</td>\n",
              "      <td>2.419200e+10</td>\n",
              "      <td>2012-02-01</td>\n",
              "    </tr>\n",
              "  </tbody>\n",
              "</table>\n",
              "</div>"
            ],
            "text/plain": [
              "        Unnamed: 0  Name CompanyName  ...      MinClose      MaxClose         ym\n",
              "435638      435638  TOPS   Top Ships  ...  6.111000e+10  6.804000e+10 2011-01-01\n",
              "435639      435639  TOPS   Top Ships  ...  5.796000e+10  6.741000e+10 2011-02-01\n",
              "435640      435640  TOPS   Top Ships  ...  4.536000e+10  5.796000e+10 2011-03-01\n",
              "435641      435641  TOPS   Top Ships  ...  3.969000e+10  4.725000e+10 2011-04-01\n",
              "435642      435642  TOPS   Top Ships  ...  3.780000e+10  4.662000e+10 2011-05-01\n",
              "435643      435643  TOPS   Top Ships  ...  1.984500e+10  3.906000e+10 2011-06-01\n",
              "435644      435644  TOPS   Top Ships  ...  1.568700e+10  2.520000e+10 2011-07-01\n",
              "435648      435648  TOPS   Top Ships  ...  1.430100e+10  1.669500e+10 2011-11-01\n",
              "435652      435652  TOPS   Top Ships  ...  1.329300e+10  1.612800e+10 2012-03-01\n",
              "435651      435651  TOPS   Top Ships  ...  8.568000e+09  2.419200e+10 2012-02-01\n",
              "\n",
              "[10 rows x 9 columns]"
            ]
          },
          "metadata": {},
          "execution_count": 5
        }
      ]
    },
    {
      "cell_type": "code",
      "metadata": {
        "id": "fu_NpSYCHo-1"
      },
      "source": [
        ""
      ],
      "execution_count": 5,
      "outputs": []
    },
    {
      "cell_type": "code",
      "metadata": {
        "colab": {
          "base_uri": "https://localhost:8080/",
          "height": 450
        },
        "id": "zg5kz3QduW_Z",
        "outputId": "908f30e0-edc2-469e-86ee-b2c440f10141"
      },
      "source": [
        "#start with one stock and plot monthly trends \n",
        "google_df = df1[(df1['Name'] == 'GOOGL')].set_index('ym')\n",
        "google_df"
      ],
      "execution_count": 6,
      "outputs": [
        {
          "output_type": "execute_result",
          "data": {
            "text/html": [
              "<div>\n",
              "<style scoped>\n",
              "    .dataframe tbody tr th:only-of-type {\n",
              "        vertical-align: middle;\n",
              "    }\n",
              "\n",
              "    .dataframe tbody tr th {\n",
              "        vertical-align: top;\n",
              "    }\n",
              "\n",
              "    .dataframe thead th {\n",
              "        text-align: right;\n",
              "    }\n",
              "</style>\n",
              "<table border=\"1\" class=\"dataframe\">\n",
              "  <thead>\n",
              "    <tr style=\"text-align: right;\">\n",
              "      <th></th>\n",
              "      <th>Unnamed: 0</th>\n",
              "      <th>Name</th>\n",
              "      <th>CompanyName</th>\n",
              "      <th>year</th>\n",
              "      <th>month</th>\n",
              "      <th>MeanClose</th>\n",
              "      <th>MinClose</th>\n",
              "      <th>MaxClose</th>\n",
              "    </tr>\n",
              "    <tr>\n",
              "      <th>ym</th>\n",
              "      <th></th>\n",
              "      <th></th>\n",
              "      <th></th>\n",
              "      <th></th>\n",
              "      <th></th>\n",
              "      <th></th>\n",
              "      <th></th>\n",
              "      <th></th>\n",
              "    </tr>\n",
              "  </thead>\n",
              "  <tbody>\n",
              "    <tr>\n",
              "      <th>2011-01-01</th>\n",
              "      <td>191936</td>\n",
              "      <td>GOOGL</td>\n",
              "      <td>Alphabet</td>\n",
              "      <td>2011</td>\n",
              "      <td>1</td>\n",
              "      <td>308.034286</td>\n",
              "      <td>300.480469</td>\n",
              "      <td>320.135132</td>\n",
              "    </tr>\n",
              "    <tr>\n",
              "      <th>2011-02-01</th>\n",
              "      <td>191937</td>\n",
              "      <td>GOOGL</td>\n",
              "      <td>Alphabet</td>\n",
              "      <td>2011</td>\n",
              "      <td>2</td>\n",
              "      <td>308.727939</td>\n",
              "      <td>304.714722</td>\n",
              "      <td>315.355347</td>\n",
              "    </tr>\n",
              "    <tr>\n",
              "      <th>2011-03-01</th>\n",
              "      <td>191938</td>\n",
              "      <td>GOOGL</td>\n",
              "      <td>Alphabet</td>\n",
              "      <td>2011</td>\n",
              "      <td>3</td>\n",
              "      <td>291.418594</td>\n",
              "      <td>278.828827</td>\n",
              "      <td>305.085083</td>\n",
              "    </tr>\n",
              "    <tr>\n",
              "      <th>2011-04-01</th>\n",
              "      <td>191939</td>\n",
              "      <td>GOOGL</td>\n",
              "      <td>Alphabet</td>\n",
              "      <td>2011</td>\n",
              "      <td>4</td>\n",
              "      <td>277.559557</td>\n",
              "      <td>261.026031</td>\n",
              "      <td>296.196198</td>\n",
              "    </tr>\n",
              "    <tr>\n",
              "      <th>2011-05-01</th>\n",
              "      <td>191940</td>\n",
              "      <td>GOOGL</td>\n",
              "      <td>Alphabet</td>\n",
              "      <td>2011</td>\n",
              "      <td>5</td>\n",
              "      <td>264.944468</td>\n",
              "      <td>259.324310</td>\n",
              "      <td>271.601593</td>\n",
              "    </tr>\n",
              "    <tr>\n",
              "      <th>...</th>\n",
              "      <td>...</td>\n",
              "      <td>...</td>\n",
              "      <td>...</td>\n",
              "      <td>...</td>\n",
              "      <td>...</td>\n",
              "      <td>...</td>\n",
              "      <td>...</td>\n",
              "      <td>...</td>\n",
              "    </tr>\n",
              "    <tr>\n",
              "      <th>2021-04-01</th>\n",
              "      <td>192059</td>\n",
              "      <td>GOOGL</td>\n",
              "      <td>Alphabet</td>\n",
              "      <td>2021</td>\n",
              "      <td>4</td>\n",
              "      <td>2272.993803</td>\n",
              "      <td>2129.780029</td>\n",
              "      <td>2392.760010</td>\n",
              "    </tr>\n",
              "    <tr>\n",
              "      <th>2021-05-01</th>\n",
              "      <td>192060</td>\n",
              "      <td>GOOGL</td>\n",
              "      <td>Alphabet</td>\n",
              "      <td>2021</td>\n",
              "      <td>5</td>\n",
              "      <td>2308.558008</td>\n",
              "      <td>2200.250000</td>\n",
              "      <td>2380.310059</td>\n",
              "    </tr>\n",
              "    <tr>\n",
              "      <th>2021-06-01</th>\n",
              "      <td>192061</td>\n",
              "      <td>GOOGL</td>\n",
              "      <td>Alphabet</td>\n",
              "      <td>2021</td>\n",
              "      <td>6</td>\n",
              "      <td>2420.922718</td>\n",
              "      <td>2347.580078</td>\n",
              "      <td>2450.719971</td>\n",
              "    </tr>\n",
              "    <tr>\n",
              "      <th>2021-07-01</th>\n",
              "      <td>192062</td>\n",
              "      <td>GOOGL</td>\n",
              "      <td>Alphabet</td>\n",
              "      <td>2021</td>\n",
              "      <td>7</td>\n",
              "      <td>2571.203323</td>\n",
              "      <td>2448.889893</td>\n",
              "      <td>2721.879883</td>\n",
              "    </tr>\n",
              "    <tr>\n",
              "      <th>2021-08-01</th>\n",
              "      <td>192063</td>\n",
              "      <td>GOOGL</td>\n",
              "      <td>Alphabet</td>\n",
              "      <td>2021</td>\n",
              "      <td>8</td>\n",
              "      <td>2726.600725</td>\n",
              "      <td>2697.090088</td>\n",
              "      <td>2766.189941</td>\n",
              "    </tr>\n",
              "  </tbody>\n",
              "</table>\n",
              "<p>128 rows × 8 columns</p>\n",
              "</div>"
            ],
            "text/plain": [
              "            Unnamed: 0   Name  ...     MinClose     MaxClose\n",
              "ym                             ...                          \n",
              "2011-01-01      191936  GOOGL  ...   300.480469   320.135132\n",
              "2011-02-01      191937  GOOGL  ...   304.714722   315.355347\n",
              "2011-03-01      191938  GOOGL  ...   278.828827   305.085083\n",
              "2011-04-01      191939  GOOGL  ...   261.026031   296.196198\n",
              "2011-05-01      191940  GOOGL  ...   259.324310   271.601593\n",
              "...                ...    ...  ...          ...          ...\n",
              "2021-04-01      192059  GOOGL  ...  2129.780029  2392.760010\n",
              "2021-05-01      192060  GOOGL  ...  2200.250000  2380.310059\n",
              "2021-06-01      192061  GOOGL  ...  2347.580078  2450.719971\n",
              "2021-07-01      192062  GOOGL  ...  2448.889893  2721.879883\n",
              "2021-08-01      192063  GOOGL  ...  2697.090088  2766.189941\n",
              "\n",
              "[128 rows x 8 columns]"
            ]
          },
          "metadata": {},
          "execution_count": 6
        }
      ]
    },
    {
      "cell_type": "code",
      "metadata": {
        "colab": {
          "base_uri": "https://localhost:8080/",
          "height": 296
        },
        "id": "yeaFuwkG2GZC",
        "outputId": "8790cce1-29db-49f6-e3d2-13545409da52"
      },
      "source": [
        "google_df['MeanClose'].plot()"
      ],
      "execution_count": 7,
      "outputs": [
        {
          "output_type": "execute_result",
          "data": {
            "text/plain": [
              "<matplotlib.axes._subplots.AxesSubplot at 0x7f7454f78b10>"
            ]
          },
          "metadata": {},
          "execution_count": 7
        },
        {
          "output_type": "display_data",
          "data": {
            "image/png": "[encoded data removed]",
            "text/plain": [
              "<Figure size 432x288 with 1 Axes>"
            ]
          },
          "metadata": {
            "needs_background": "light"
          }
        }
      ]
    },
    {
      "cell_type": "code",
      "metadata": {
        "colab": {
          "base_uri": "https://localhost:8080/"
        },
        "id": "ROUNBMYKFUbz",
        "outputId": "8e1abd07-975e-40f5-8cc7-84cc68eef5c4"
      },
      "source": [
        "trimmed_df = google_df['MeanClose']\n",
        "trimmed_df\n",
        "# trimmed_df.set_index('ym', inplace=True)\n",
        "# trimmed_df.dtypes"
      ],
      "execution_count": 8,
      "outputs": [
        {
          "output_type": "execute_result",
          "data": {
            "text/plain": [
              "ym\n",
              "2011-01-01     308.034286\n",
              "2011-02-01     308.727939\n",
              "2011-03-01     291.418594\n",
              "2011-04-01     277.559557\n",
              "2011-05-01     264.944468\n",
              "                 ...     \n",
              "2021-04-01    2272.993803\n",
              "2021-05-01    2308.558008\n",
              "2021-06-01    2420.922718\n",
              "2021-07-01    2571.203323\n",
              "2021-08-01    2726.600725\n",
              "Name: MeanClose, Length: 128, dtype: float64"
            ]
          },
          "metadata": {},
          "execution_count": 8
        }
      ]
    },
    {
      "cell_type": "code",
      "metadata": {
        "colab": {
          "base_uri": "https://localhost:8080/",
          "height": 432
        },
        "id": "fwQczZc54-IV",
        "outputId": "3ff88505-0d1c-43c1-eadd-fc69da5adb49"
      },
      "source": [
        "from pmdarima.arima import ADFTest\n",
        "#Test for staionarity\n",
        "def test_stationarity(timeseries):\n",
        "    #Determing rolling statistics\n",
        "    rolmean = timeseries.rolling(12).mean()\n",
        "    rolstd = timeseries.rolling(12).std()\n",
        "    #Plot rolling statistics:\n",
        "    plt.plot(timeseries, color='blue',label='Original')\n",
        "    plt.plot(rolmean, color='red', label='Rolling Mean')\n",
        "    plt.plot(rolstd, color='black', label = 'Rolling Std')\n",
        "    plt.legend(loc='best')\n",
        "    plt.title('Rolling Mean and Standard Deviation')\n",
        "    plt.show(block=False)\n",
        "    \n",
        "    print(\"Results of dickey fuller test\")\n",
        "    adft = adfuller(timeseries,autolag='AIC')\n",
        "    # output for dft will give us without defining what the values are.\n",
        "    #hence we manually write what values does it explains using a for loop\n",
        "    output = pd.Series(adft[0:4],index=['Test Statistics','p-value','No. of lags used','Number of observations used'])\n",
        "    for key,values in adft[4].items():\n",
        "        output['critical value (%s)'%key] =  values\n",
        "    print(output)\n",
        "    \n",
        "test_stationarity(trimmed_df)"
      ],
      "execution_count": 9,
      "outputs": [
        {
          "output_type": "display_data",
          "data": {
            "image/png": "[encoded data removed]",
            "text/plain": [
              "<Figure size 432x288 with 1 Axes>"
            ]
          },
          "metadata": {
            "needs_background": "light"
          }
        },
        {
          "output_type": "stream",
          "name": "stdout",
          "text": [
            "Results of dickey fuller test\n",
            "Test Statistics                  1.880210\n",
            "p-value                          0.998496\n",
            "No. of lags used                11.000000\n",
            "Number of observations used    116.000000\n",
            "critical value (1%)             -3.488022\n",
            "critical value (5%)             -2.886797\n",
            "critical value (10%)            -2.580241\n",
            "dtype: float64\n"
          ]
        }
      ]
    },
    {
      "cell_type": "code",
      "metadata": {
        "id": "onTYXcLd_AF_"
      },
      "source": [
        "from statsmodels.tsa.arima_model import ARIMA\n",
        "import pmdarima as pm"
      ],
      "execution_count": 10,
      "outputs": []
    },
    {
      "cell_type": "code",
      "metadata": {
        "colab": {
          "base_uri": "https://localhost:8080/",
          "height": 609
        },
        "id": "_tdYIaNztfe9",
        "outputId": "27ae62e0-9ab9-44b9-9ca3-2866f49ee7f8"
      },
      "source": [
        "result = seasonal_decompose(trimmed_df, model='multiplicative', freq = 30)\n",
        "fig = plt.figure()  \n",
        "fig = result.plot()  \n",
        "fig.set_size_inches(16, 9)"
      ],
      "execution_count": 11,
      "outputs": [
        {
          "output_type": "display_data",
          "data": {
            "text/plain": [
              "<Figure size 432x288 with 0 Axes>"
            ]
          },
          "metadata": {}
        },
        {
          "output_type": "display_data",
          "data": {
            "image/png": "[encoded data removed]",
            "text/plain": [
              "<Figure size 1152x648 with 4 Axes>"
            ]
          },
          "metadata": {
            "needs_background": "light"
          }
        }
      ]
    },
    {
      "cell_type": "code",
      "metadata": {
        "colab": {
          "base_uri": "https://localhost:8080/"
        },
        "id": "kjWThQ_t5emr",
        "outputId": "ba0f90e2-99c2-45c5-b8a8-4c78d2849a10"
      },
      "source": [
        "from sklearn.preprocessing import StandardScaler\n",
        "\n",
        "X = google_df.index\n",
        "y = google_df['MeanClose']\n",
        "\n",
        "data = X,y\n",
        "data\n",
        "y"
      ],
      "execution_count": 45,
      "outputs": [
        {
          "output_type": "execute_result",
          "data": {
            "text/plain": [
              "ym\n",
              "2011-01-01     308.034286\n",
              "2011-02-01     308.727939\n",
              "2011-03-01     291.418594\n",
              "2011-04-01     277.559557\n",
              "2011-05-01     264.944468\n",
              "                 ...     \n",
              "2021-04-01    2272.993803\n",
              "2021-05-01    2308.558008\n",
              "2021-06-01    2420.922718\n",
              "2021-07-01    2571.203323\n",
              "2021-08-01    2726.600725\n",
              "Name: MeanClose, Length: 128, dtype: float64"
            ]
          },
          "metadata": {},
          "execution_count": 45
        }
      ]
    },
    {
      "cell_type": "code",
      "metadata": {
        "id": "T2luUR5-7FYm",
        "colab": {
          "base_uri": "https://localhost:8080/"
        },
        "outputId": "e257e8db-b935-4d6e-8fcd-7666026f9a33"
      },
      "source": [
        "# define model configuration\n",
        "my_order = (1, 1, 1)\n",
        "my_seasonal_order = (1, 1, 1, 1)\n",
        "# define model\n",
        "model = sm.tsa.statespace.SARIMAX(y, trend='c', order=(23,1,0))\n",
        "\n"
      ],
      "execution_count": 46,
      "outputs": [
        {
          "output_type": "stream",
          "name": "stderr",
          "text": [
            "/usr/local/lib/python3.7/dist-packages/statsmodels/tsa/base/tsa_model.py:527: ValueWarning: No frequency information was provided, so inferred frequency MS will be used.\n",
            "  % freq, ValueWarning)\n",
            "/usr/local/lib/python3.7/dist-packages/statsmodels/tsa/base/tsa_model.py:527: ValueWarning: No frequency information was provided, so inferred frequency MS will be used.\n",
            "  % freq, ValueWarning)\n"
          ]
        }
      ]
    },
    {
      "cell_type": "code",
      "metadata": {
        "colab": {
          "base_uri": "https://localhost:8080/"
        },
        "id": "wfb0-SX-p0Na",
        "outputId": "2776d67c-a13d-42d8-d078-b6c57404714c"
      },
      "source": [
        "data"
      ],
      "execution_count": 25,
      "outputs": [
        {
          "output_type": "execute_result",
          "data": {
            "text/plain": [
              "ym\n",
              "2018-05-01    1074.852717\n",
              "2017-03-01     853.790002\n",
              "2021-01-01    1800.195788\n",
              "2014-10-01     557.543481\n",
              "2017-06-01     973.368638\n",
              "                 ...     \n",
              "2011-10-01     281.152343\n",
              "2017-01-01     830.249509\n",
              "2012-01-01     307.752251\n",
              "2019-12-01    1340.990944\n",
              "2014-02-01     595.683841\n",
              "Name: MeanClose, Length: 96, dtype: float64"
            ]
          },
          "metadata": {},
          "execution_count": 25
        }
      ]
    },
    {
      "cell_type": "code",
      "metadata": {
        "id": "LJCMWchQ_PRL",
        "colab": {
          "base_uri": "https://localhost:8080/"
        },
        "outputId": "21e7c54c-019c-41aa-f2ce-f01ec949e1d8"
      },
      "source": [
        "#let's fit the model to the training data\n",
        "model_fit = model.fit()\n"
      ],
      "execution_count": 47,
      "outputs": [
        {
          "output_type": "stream",
          "name": "stderr",
          "text": [
            "/usr/local/lib/python3.7/dist-packages/statsmodels/base/model.py:568: ConvergenceWarning: Maximum Likelihood optimization failed to converge. Check mle_retvals\n",
            "  ConvergenceWarning)\n"
          ]
        }
      ]
    },
    {
      "cell_type": "code",
      "metadata": {
        "id": "Vw_JTMjlaeRp",
        "colab": {
          "base_uri": "https://localhost:8080/",
          "height": 450
        },
        "outputId": "d92f1976-c592-4940-9965-3716525e664b"
      },
      "source": [
        "#make a prediction\n",
        "google_df['mean_close_prediction'] = model_fit.predict()\n",
        "google_df"
      ],
      "execution_count": 48,
      "outputs": [
        {
          "output_type": "execute_result",
          "data": {
            "text/html": [
              "<div>\n",
              "<style scoped>\n",
              "    .dataframe tbody tr th:only-of-type {\n",
              "        vertical-align: middle;\n",
              "    }\n",
              "\n",
              "    .dataframe tbody tr th {\n",
              "        vertical-align: top;\n",
              "    }\n",
              "\n",
              "    .dataframe thead th {\n",
              "        text-align: right;\n",
              "    }\n",
              "</style>\n",
              "<table border=\"1\" class=\"dataframe\">\n",
              "  <thead>\n",
              "    <tr style=\"text-align: right;\">\n",
              "      <th></th>\n",
              "      <th>Unnamed: 0</th>\n",
              "      <th>Name</th>\n",
              "      <th>CompanyName</th>\n",
              "      <th>year</th>\n",
              "      <th>month</th>\n",
              "      <th>MeanClose</th>\n",
              "      <th>MinClose</th>\n",
              "      <th>MaxClose</th>\n",
              "      <th>mean_close_prediction</th>\n",
              "    </tr>\n",
              "    <tr>\n",
              "      <th>ym</th>\n",
              "      <th></th>\n",
              "      <th></th>\n",
              "      <th></th>\n",
              "      <th></th>\n",
              "      <th></th>\n",
              "      <th></th>\n",
              "      <th></th>\n",
              "      <th></th>\n",
              "      <th></th>\n",
              "    </tr>\n",
              "  </thead>\n",
              "  <tbody>\n",
              "    <tr>\n",
              "      <th>2011-01-01</th>\n",
              "      <td>191936</td>\n",
              "      <td>GOOGL</td>\n",
              "      <td>Alphabet</td>\n",
              "      <td>2011</td>\n",
              "      <td>1</td>\n",
              "      <td>308.034286</td>\n",
              "      <td>300.480469</td>\n",
              "      <td>320.135132</td>\n",
              "      <td>-7.515940</td>\n",
              "    </tr>\n",
              "    <tr>\n",
              "      <th>2011-02-01</th>\n",
              "      <td>191937</td>\n",
              "      <td>GOOGL</td>\n",
              "      <td>Alphabet</td>\n",
              "      <td>2011</td>\n",
              "      <td>2</td>\n",
              "      <td>308.727939</td>\n",
              "      <td>304.714722</td>\n",
              "      <td>315.355347</td>\n",
              "      <td>367.770029</td>\n",
              "    </tr>\n",
              "    <tr>\n",
              "      <th>2011-03-01</th>\n",
              "      <td>191938</td>\n",
              "      <td>GOOGL</td>\n",
              "      <td>Alphabet</td>\n",
              "      <td>2011</td>\n",
              "      <td>3</td>\n",
              "      <td>291.418594</td>\n",
              "      <td>278.828827</td>\n",
              "      <td>305.085083</td>\n",
              "      <td>310.395210</td>\n",
              "    </tr>\n",
              "    <tr>\n",
              "      <th>2011-04-01</th>\n",
              "      <td>191939</td>\n",
              "      <td>GOOGL</td>\n",
              "      <td>Alphabet</td>\n",
              "      <td>2011</td>\n",
              "      <td>4</td>\n",
              "      <td>277.559557</td>\n",
              "      <td>261.026031</td>\n",
              "      <td>296.196198</td>\n",
              "      <td>283.810654</td>\n",
              "    </tr>\n",
              "    <tr>\n",
              "      <th>2011-05-01</th>\n",
              "      <td>191940</td>\n",
              "      <td>GOOGL</td>\n",
              "      <td>Alphabet</td>\n",
              "      <td>2011</td>\n",
              "      <td>5</td>\n",
              "      <td>264.944468</td>\n",
              "      <td>259.324310</td>\n",
              "      <td>271.601593</td>\n",
              "      <td>268.845947</td>\n",
              "    </tr>\n",
              "    <tr>\n",
              "      <th>...</th>\n",
              "      <td>...</td>\n",
              "      <td>...</td>\n",
              "      <td>...</td>\n",
              "      <td>...</td>\n",
              "      <td>...</td>\n",
              "      <td>...</td>\n",
              "      <td>...</td>\n",
              "      <td>...</td>\n",
              "      <td>...</td>\n",
              "    </tr>\n",
              "    <tr>\n",
              "      <th>2021-04-01</th>\n",
              "      <td>192059</td>\n",
              "      <td>GOOGL</td>\n",
              "      <td>Alphabet</td>\n",
              "      <td>2021</td>\n",
              "      <td>4</td>\n",
              "      <td>2272.993803</td>\n",
              "      <td>2129.780029</td>\n",
              "      <td>2392.760010</td>\n",
              "      <td>2141.615514</td>\n",
              "    </tr>\n",
              "    <tr>\n",
              "      <th>2021-05-01</th>\n",
              "      <td>192060</td>\n",
              "      <td>GOOGL</td>\n",
              "      <td>Alphabet</td>\n",
              "      <td>2021</td>\n",
              "      <td>5</td>\n",
              "      <td>2308.558008</td>\n",
              "      <td>2200.250000</td>\n",
              "      <td>2380.310059</td>\n",
              "      <td>2368.745804</td>\n",
              "    </tr>\n",
              "    <tr>\n",
              "      <th>2021-06-01</th>\n",
              "      <td>192061</td>\n",
              "      <td>GOOGL</td>\n",
              "      <td>Alphabet</td>\n",
              "      <td>2021</td>\n",
              "      <td>6</td>\n",
              "      <td>2420.922718</td>\n",
              "      <td>2347.580078</td>\n",
              "      <td>2450.719971</td>\n",
              "      <td>2348.286275</td>\n",
              "    </tr>\n",
              "    <tr>\n",
              "      <th>2021-07-01</th>\n",
              "      <td>192062</td>\n",
              "      <td>GOOGL</td>\n",
              "      <td>Alphabet</td>\n",
              "      <td>2021</td>\n",
              "      <td>7</td>\n",
              "      <td>2571.203323</td>\n",
              "      <td>2448.889893</td>\n",
              "      <td>2721.879883</td>\n",
              "      <td>2521.296845</td>\n",
              "    </tr>\n",
              "    <tr>\n",
              "      <th>2021-08-01</th>\n",
              "      <td>192063</td>\n",
              "      <td>GOOGL</td>\n",
              "      <td>Alphabet</td>\n",
              "      <td>2021</td>\n",
              "      <td>8</td>\n",
              "      <td>2726.600725</td>\n",
              "      <td>2697.090088</td>\n",
              "      <td>2766.189941</td>\n",
              "      <td>2700.456614</td>\n",
              "    </tr>\n",
              "  </tbody>\n",
              "</table>\n",
              "<p>128 rows × 9 columns</p>\n",
              "</div>"
            ],
            "text/plain": [
              "            Unnamed: 0   Name  ...     MaxClose  mean_close_prediction\n",
              "ym                             ...                                    \n",
              "2011-01-01      191936  GOOGL  ...   320.135132              -7.515940\n",
              "2011-02-01      191937  GOOGL  ...   315.355347             367.770029\n",
              "2011-03-01      191938  GOOGL  ...   305.085083             310.395210\n",
              "2011-04-01      191939  GOOGL  ...   296.196198             283.810654\n",
              "2011-05-01      191940  GOOGL  ...   271.601593             268.845947\n",
              "...                ...    ...  ...          ...                    ...\n",
              "2021-04-01      192059  GOOGL  ...  2392.760010            2141.615514\n",
              "2021-05-01      192060  GOOGL  ...  2380.310059            2368.745804\n",
              "2021-06-01      192061  GOOGL  ...  2450.719971            2348.286275\n",
              "2021-07-01      192062  GOOGL  ...  2721.879883            2521.296845\n",
              "2021-08-01      192063  GOOGL  ...  2766.189941            2700.456614\n",
              "\n",
              "[128 rows x 9 columns]"
            ]
          },
          "metadata": {},
          "execution_count": 48
        }
      ]
    },
    {
      "cell_type": "code",
      "metadata": {
        "colab": {
          "base_uri": "https://localhost:8080/",
          "height": 513
        },
        "id": "MLd8VBSmW5EY",
        "outputId": "aa748f37-43e8-44f3-d8a1-533e0f088886"
      },
      "source": [
        "google_df[['MeanClose', 'mean_close_prediction']].plot(figsize=(12,8))"
      ],
      "execution_count": 49,
      "outputs": [
        {
          "output_type": "execute_result",
          "data": {
            "text/plain": [
              "<matplotlib.axes._subplots.AxesSubplot at 0x7f7444cc57d0>"
            ]
          },
          "metadata": {},
          "execution_count": 49
        },
        {
          "output_type": "display_data",
          "data": {
            "image/png": "[encoded data removed]",
            "text/plain": [
              "<Figure size 864x576 with 1 Axes>"
            ]
          },
          "metadata": {
            "needs_background": "light"
          }
        }
      ]
    },
    {
      "cell_type": "code",
      "metadata": {
        "id": "vWg0S8zGadSq",
        "colab": {
          "base_uri": "https://localhost:8080/",
          "height": 283
        },
        "outputId": "74675321-07f0-4cc2-9092-8e691e0c0ecb"
      },
      "source": [
        "google_df[['MeanClose', 'mean_close_prediction']].plot_predict()"
      ],
      "execution_count": 50,
      "outputs": [
        {
          "output_type": "error",
          "ename": "AttributeError",
          "evalue": "ignored",
          "traceback": [
            "\u001b[0;31m---------------------------------------------------------------------------\u001b[0m",
            "\u001b[0;31mAttributeError\u001b[0m                            Traceback (most recent call last)",
            "\u001b[0;32m<ipython-input-50-fe7ba7d02c8d>\u001b[0m in \u001b[0;36m<module>\u001b[0;34m()\u001b[0m\n\u001b[0;32m----> 1\u001b[0;31m \u001b[0mgoogle_df\u001b[0m\u001b[0;34m[\u001b[0m\u001b[0;34m[\u001b[0m\u001b[0;34m'MeanClose'\u001b[0m\u001b[0;34m,\u001b[0m \u001b[0;34m'mean_close_prediction'\u001b[0m\u001b[0;34m]\u001b[0m\u001b[0;34m]\u001b[0m\u001b[0;34m.\u001b[0m\u001b[0mplot_predict\u001b[0m\u001b[0;34m(\u001b[0m\u001b[0;34m)\u001b[0m\u001b[0;34m\u001b[0m\u001b[0;34m\u001b[0m\u001b[0m\n\u001b[0m",
            "\u001b[0;32m/usr/local/lib/python3.7/dist-packages/pandas/core/generic.py\u001b[0m in \u001b[0;36m__getattr__\u001b[0;34m(self, name)\u001b[0m\n\u001b[1;32m   5139\u001b[0m             \u001b[0;32mif\u001b[0m \u001b[0mself\u001b[0m\u001b[0;34m.\u001b[0m\u001b[0m_info_axis\u001b[0m\u001b[0;34m.\u001b[0m\u001b[0m_can_hold_identifiers_and_holds_name\u001b[0m\u001b[0;34m(\u001b[0m\u001b[0mname\u001b[0m\u001b[0;34m)\u001b[0m\u001b[0;34m:\u001b[0m\u001b[0;34m\u001b[0m\u001b[0;34m\u001b[0m\u001b[0m\n\u001b[1;32m   5140\u001b[0m                 \u001b[0;32mreturn\u001b[0m \u001b[0mself\u001b[0m\u001b[0;34m[\u001b[0m\u001b[0mname\u001b[0m\u001b[0;34m]\u001b[0m\u001b[0;34m\u001b[0m\u001b[0;34m\u001b[0m\u001b[0m\n\u001b[0;32m-> 5141\u001b[0;31m             \u001b[0;32mreturn\u001b[0m \u001b[0mobject\u001b[0m\u001b[0;34m.\u001b[0m\u001b[0m__getattribute__\u001b[0m\u001b[0;34m(\u001b[0m\u001b[0mself\u001b[0m\u001b[0;34m,\u001b[0m \u001b[0mname\u001b[0m\u001b[0;34m)\u001b[0m\u001b[0;34m\u001b[0m\u001b[0;34m\u001b[0m\u001b[0m\n\u001b[0m\u001b[1;32m   5142\u001b[0m \u001b[0;34m\u001b[0m\u001b[0m\n\u001b[1;32m   5143\u001b[0m     \u001b[0;32mdef\u001b[0m \u001b[0m__setattr__\u001b[0m\u001b[0;34m(\u001b[0m\u001b[0mself\u001b[0m\u001b[0;34m,\u001b[0m \u001b[0mname\u001b[0m\u001b[0;34m:\u001b[0m \u001b[0mstr\u001b[0m\u001b[0;34m,\u001b[0m \u001b[0mvalue\u001b[0m\u001b[0;34m)\u001b[0m \u001b[0;34m->\u001b[0m \u001b[0;32mNone\u001b[0m\u001b[0;34m:\u001b[0m\u001b[0;34m\u001b[0m\u001b[0;34m\u001b[0m\u001b[0m\n",
            "\u001b[0;31mAttributeError\u001b[0m: 'DataFrame' object has no attribute 'plot_predict'"
          ]
        }
      ]
    },
    {
      "cell_type": "code",
      "metadata": {
        "id": "iITtcA6IxRbu"
      },
      "source": [
        ""
      ],
      "execution_count": null,
      "outputs": []
    }
  ]
}